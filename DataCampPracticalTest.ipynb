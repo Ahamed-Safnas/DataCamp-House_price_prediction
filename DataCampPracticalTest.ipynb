{
  "nbformat": 4,
  "nbformat_minor": 0,
  "metadata": {
    "colab": {
      "provenance": [],
      "authorship_tag": "ABX9TyO2nfKXHsFyK/oC33eyrJ0f",
      "include_colab_link": true
    },
    "kernelspec": {
      "name": "python3",
      "display_name": "Python 3"
    },
    "language_info": {
      "name": "python"
    }
  },
  "cells": [
    {
      "cell_type": "markdown",
      "metadata": {
        "id": "view-in-github",
        "colab_type": "text"
      },
      "source": [
        "<a href=\"https://colab.research.google.com/github/Ahamed-Safnas/DataCamp-House_price_prediction/blob/main/DataCampPracticalTest.ipynb\" target=\"_parent\"><img src=\"https://colab.research.google.com/assets/colab-badge.svg\" alt=\"Open In Colab\"/></a>"
      ]
    },
    {
      "cell_type": "markdown",
      "source": [
        "# Practical Exam: House sales\n",
        "\n",
        "RealAgents is a real estate company that focuses on selling houses.\n",
        "\n",
        "RealAgents sells a variety of types of house in one metropolitan area.\n",
        "\n",
        "Some houses sell slowly and sometimes require lowering the price in order to find a buyer.\n",
        "\n",
        "In order to stay competitive, RealAgents would like to optimize the listing prices of the houses it is trying to sell.\n",
        "\n",
        "They want to do this by predicting the sale price of a house given its characteristics.\n",
        "\n",
        "If they can predict the sale price in advance, they can decrease the time to sale.\n",
        "\n",
        "\n",
        "## Data\n",
        "\n",
        "The dataset contains records of previous houses sold in the area.\n",
        "\n",
        "| Column Name | Criteria                                                |\n",
        "|-------------|---------------------------------------------------------|\n",
        "| house_id    | Nominal. </br> Unique identifier for houses. </br>Missing values not possible. |\n",
        "| city        | Nominal. </br>The city in which the house is located. One of 'Silvertown', 'Riverford', 'Teasdale' and 'Poppleton'. </br>Replace missing values with \"Unknown\". |\n",
        "| sale_price  | Discrete. </br>The sale price of the house in whole dollars. Values can be any positive number greater than or equal to zero.</br>Remove missing entries. |\n",
        "| sale_date   | Discrete. </br>The date of the last sale of the house. </br>Replace missing values with 2023-01-01. |\n",
        "| months_listed  | Continuous. </br>The number of months the house was listed on the market prior to its last sale, rounded to one decimal place. </br>Replace missing values with mean number of months listed, to one decimal place. |\n",
        "| bedrooms    | Discrete. </br>The number of bedrooms in the house. Any positive values greater than or equal to zero. </br>Replace missing values with the mean number of bedrooms, rounded to the nearest integer. |\n",
        "| house_type   | Ordinal. </br>One of \"Terraced\" (two shared walls), \"Semi-detached\" (one shared wall), or \"Detached\" (no shared walls). </br>Replace missing values with the most common house type. |\n",
        "| area      | Continuous. </br>The area of the house in square meters, rounded to one decimal place. </br>Replace missing values with the mean, to one decimal place. |\n"
      ],
      "metadata": {
        "id": "auuuDmWiB4dx"
      }
    },
    {
      "cell_type": "markdown",
      "source": [
        "# Task 1\n",
        "\n",
        "The team at RealAgents knows that the city that a property is located in makes a difference to the sale price.\n",
        "\n",
        "Unfortuntately they believe that this isn't always recorded in the data.\n",
        "\n",
        "Calculate the number of missing values of the `city`.\n",
        "\n",
        " - You should use the data in the file \"house_sales.csv\".\n",
        "\n",
        " - Your output should be an object `missing_city`, that contains the number of missing values in this column."
      ],
      "metadata": {
        "id": "6b3suZSMm3EP"
      }
    },
    {
      "cell_type": "code",
      "source": [
        "import pandas as pd\n",
        "\n",
        "\n",
        "df = pd.read_csv('house_sales.csv')\n",
        "\n",
        "valid_cities = ['Silvertown', 'Riverford', 'Teasdale', 'Poppleton']\n",
        "\n",
        "missing_city = df[~df['city'].isin(valid_cities)]['city'].count()\n",
        "\n",
        "# Print the result\n",
        "print(missing_city)\n"
      ],
      "metadata": {
        "id": "IiS_WbhnB6Up"
      },
      "execution_count": null,
      "outputs": []
    },
    {
      "cell_type": "markdown",
      "source": [
        "# Task 2\n",
        "\n",
        "Before you fit any models, you will need to make sure the data is clean.\n",
        "\n",
        "The table below shows what the data should look like.\n",
        "\n",
        "Create a cleaned version of the dataframe.\n",
        "\n",
        " - You should start with the data in the file \"house_sales.csv\".\n",
        "\n",
        " - Your output should be a dataframe named `clean_data`.\n",
        "\n",
        " - All column names and values should match the table below.\n",
        "\n",
        "\n",
        "| Column Name | Criteria                                                |\n",
        "|-------------|---------------------------------------------------------|\n",
        "| house_id    | Nominal. </br> Unique identifier for houses. </br>Missing values not possible. |\n",
        "| city        | Nominal. </br>The city in which the house is located. One of 'Silvertown', 'Riverford', 'Teasdale' and 'Poppleton' </br>Replace missing values with \"Unknown\". |\n",
        "| sale_price  | Discrete. </br>The sale price of the house in whole dollars. Values can be any positive number greater than or equal to zero.</br>Remove missing entries. |\n",
        "| sale_date   | Discrete. </br>The date of the last sale of the house. </br>Replace missing values with 2023-01-01. |\n",
        "| months_listed  | Continuous. </br>The number of months the house was listed on the market prior to its last sale, rounded to one decimal place. </br>Replace missing values with mean number of months listed, to one decimal place. |\n",
        "| bedrooms    | Discrete. </br>The number of bedrooms in the house. Any positive values greater than or equal to zero. </br>Replace missing values with the mean number of bedrooms, rounded to the nearest integer. |\n",
        "| house_type   | Ordinal. </br>One of \"Terraced\", \"Semi-detached\", or \"Detached\". </br>Replace missing values with the most common house type. |\n",
        "| area      | Continuous. </br>The area of the house in square meters, rounded to one decimal place. </br>Replace missing values with the mean, to one decimal place. |"
      ],
      "metadata": {
        "id": "a0IuM_Z6CEY5"
      }
    },
    {
      "cell_type": "code",
      "source": [
        "import pandas as pd\n",
        "\n",
        "# checked unique values : showed -- as a value in city, replace to nan\n",
        "df = pd.read_csv(\"house_sales.csv\", na_values=[\"--\"])\n",
        "\n",
        "# missing values 'city'\n",
        "df['city'].fillna(\"Unknown\", inplace=True)\n",
        "print(\"Unique values in 'city' column:\", df['city'].unique())\n",
        "\n",
        "# missing entries 'sale_price'\n",
        "df.dropna(subset=['sale_price'], inplace=True)\n",
        "# missing 'sale_date'\n",
        "df['sale_date'].fillna(\"2023-01-01\", inplace=True)\n",
        "\n",
        "# missing 'months_listed'\n",
        "df['months_listed'].fillna(df['months_listed'].mean().round(1), inplace=True)\n",
        "print(\"Unique values in 'months_listed' column:\", df['months_listed'].unique())\n",
        "\n",
        "# missing 'bedrooms'\n",
        "print(\"Unique values in 'bedrooms' column:\", df['bedrooms'].unique())\n",
        "df['bedrooms'].fillna(round(df['bedrooms'].mean()), inplace=True)\n",
        "\n",
        "# missing 'house_type'\n",
        "df['house_type'].replace({'Det.': 'Detached', 'Terr.': 'Terraced', 'Semi': 'Semi-detached'}, inplace=True)\n",
        "print(\"Unique values in 'house_type' column:\", df['house_type'].unique())\n",
        "\n",
        "# missing values 'area'\n",
        "df['area'] = df['area'].str.replace(' sq.m.', '').astype(float)\n",
        "df['area'].fillna(df['area'].mean(), inplace=True)\n",
        "\n",
        "# make sure area is only float, no strings or nan\n",
        "print(\"is 'area' column float:\", df['area'].dtype)\n",
        "print(\"missing values in 'area' column:\", df['area'].isna().sum())\n",
        "\n",
        "clean_data = df.copy()"
      ],
      "metadata": {
        "id": "rFJ-k3_CB7Ff"
      },
      "execution_count": null,
      "outputs": []
    },
    {
      "cell_type": "markdown",
      "source": [
        "# Task 3\n",
        "\n",
        "The team at RealAgents have told you that they have always believed that the number of bedrooms is the biggest driver of house price.\n",
        "\n",
        "Producing a table showing the difference in the average sale price by number of bedrooms along with the variance to investigate this question for the team.\n",
        "\n",
        " - You should start with the data in the file 'house_sales.csv'.\n",
        "\n",
        " - Your output should be a data frame named `price_by_rooms`.\n",
        "\n",
        " - It should include the three columns `bedrooms`, `avg_price`, `var_price`.\n",
        "\n",
        " - Your answers should be rounded to 1 decimal place.   "
      ],
      "metadata": {
        "id": "-a9q9v48CNYt"
      }
    },
    {
      "cell_type": "code",
      "source": [
        "import pandas as pd\n",
        "\n",
        "# Load the dataset from the 'house_sales.csv' file\n",
        "df = pd.read_csv('house_sales.csv')\n",
        "\n",
        "# Step 1: Group by 'bedrooms' and calculate the average and variance of 'sale_price'\n",
        "price_by_rooms = df.groupby('bedrooms')['sale_price'].agg(\n",
        "    avg_price='mean',       # Average sale price\n",
        "    var_price='var'         # Variance of sale price\n",
        ").reset_index()\n",
        "\n",
        "# Step 2: Round the results to 1 decimal place\n",
        "price_by_rooms['avg_price'] = price_by_rooms['avg_price'].round(1)\n",
        "price_by_rooms['var_price'] = price_by_rooms['var_price'].round(1)\n",
        "\n",
        "# Display the resulting dataframe\n",
        "print(price_by_rooms)\n"
      ],
      "metadata": {
        "id": "Xnz88wCUCOBL"
      },
      "execution_count": null,
      "outputs": []
    },
    {
      "cell_type": "markdown",
      "source": [
        "# Task 4\n",
        "\n",
        "Fit a baseline model to predict the sale price of a house.\n",
        "\n",
        " 1. Fit your model using the data contained in “train.csv” </br></br>\n",
        "\n",
        " 2. Use “validation.csv” to predict new values based on your model. You must return a dataframe named `base_result`, that includes `house_id` and `price`. The price column must be your predicted values."
      ],
      "metadata": {
        "id": "dMvX1iIrCOfT"
      }
    },
    {
      "cell_type": "code",
      "source": [
        "import pandas as pd\n",
        "from sklearn.ensemble import RandomForestRegressor\n",
        "from sklearn.model_selection import train_test_split\n",
        "from sklearn.preprocessing import LabelEncoder\n",
        "from sklearn.metrics import mean_squared_error\n",
        "import numpy as np\n",
        "\n",
        "# Step 1: Load the training and validation datasets\n",
        "train_data = pd.read_csv('train.csv')\n",
        "validation_data = pd.read_csv('validation.csv')\n",
        "\n",
        "# Step 2: Preprocess the data\n",
        "\n",
        "# Encode categorical variables (city and house_type) using LabelEncoder\n",
        "label_encoder_city = LabelEncoder()\n",
        "label_encoder_house_type = LabelEncoder()\n",
        "\n",
        "train_data['city'] = label_encoder_city.fit_transform(train_data['city'])\n",
        "train_data['house_type'] = label_encoder_house_type.fit_transform(train_data['house_type'])\n",
        "\n",
        "validation_data['city'] = label_encoder_city.transform(validation_data['city'])\n",
        "validation_data['house_type'] = label_encoder_house_type.transform(validation_data['house_type'])\n",
        "\n",
        "# Step 3: Define the features (X) and target variable (y) for training\n",
        "X_train = train_data[['city', 'months_listed', 'bedrooms', 'house_type', 'area']]\n",
        "y_train = train_data['sale_price']\n",
        "\n",
        "# Step 4: Fit a Random Forest Regressor model\n",
        "rf_model = RandomForestRegressor(random_state=42)\n",
        "rf_model.fit(X_train, y_train)\n",
        "\n",
        "# Step 5: Make predictions on the validation dataset\n",
        "X_validation = validation_data[['city', 'months_listed', 'bedrooms', 'house_type', 'area']]\n",
        "predictions = rf_model.predict(X_validation)\n",
        "\n",
        "# Step 6: Create the result dataframe with house_id and predicted price\n",
        "base_result = pd.DataFrame({\n",
        "    'house_id': validation_data['house_id'],\n",
        "    'price': predictions\n",
        "})\n",
        "\n",
        "\n",
        "# Return the result dataframe\n",
        "print(base_result)\n",
        "\n"
      ],
      "metadata": {
        "id": "te0ZoOtACc_a"
      },
      "execution_count": null,
      "outputs": []
    },
    {
      "cell_type": "markdown",
      "source": [
        "# Task 5\n",
        "\n",
        "Fit a comparison model to predict the sale price of a house.\n",
        "\n",
        " 1. Fit your model using the data contained in “train.csv” </br></br>\n",
        "\n",
        " 2. Use “validation.csv” to predict new values based on your model. You must return a dataframe named `compare_result`, that includes `house_id` and `price`. The price column must be your predicted values."
      ],
      "metadata": {
        "id": "f21gNDNwB6v7"
      }
    },
    {
      "cell_type": "code",
      "source": [
        "import pandas as pd\n",
        "from sklearn.linear_model import LinearRegression\n",
        "from sklearn.preprocessing import LabelEncoder\n",
        "from sklearn.metrics import mean_squared_error\n",
        "import numpy as np\n",
        "\n",
        "# Step 1: Load the train and validation data\n",
        "train_data = pd.read_csv('train.csv')\n",
        "validation_data = pd.read_csv('validation.csv')\n",
        "\n",
        "# Step 2: Encode categorical features (city and house_type)\n",
        "label_encoder_city = LabelEncoder()\n",
        "label_encoder_house_type = LabelEncoder()\n",
        "\n",
        "# Fit and transform the categorical columns for training data\n",
        "train_data['city'] = label_encoder_city.fit_transform(train_data['city'])\n",
        "train_data['house_type'] = label_encoder_house_type.fit_transform(train_data['house_type'])\n",
        "\n",
        "# Transform the categorical columns for validation data using the same encoder\n",
        "validation_data['city'] = label_encoder_city.transform(validation_data['city'])\n",
        "validation_data['house_type'] = label_encoder_house_type.transform(validation_data['house_type'])\n",
        "\n",
        "# Step 3: Prepare features (X) and target variable (y) for the training dataset\n",
        "X_train = train_data[['city', 'months_listed', 'bedrooms', 'house_type', 'area']]\n",
        "y_train = train_data['sale_price']\n",
        "\n",
        "# Prepare features for the validation dataset\n",
        "X_validation = validation_data[['city', 'months_listed', 'bedrooms', 'house_type', 'area']]\n",
        "\n",
        "# Step 4: Initialize and train the Linear Regression model\n",
        "lr_model = LinearRegression()\n",
        "lr_model.fit(X_train, y_train)\n",
        "\n",
        "# Step 5: Make predictions on the validation dataset\n",
        "lr_predictions = lr_model.predict(X_validation)\n",
        "\n",
        "# Step 6: Prepare the result DataFrame with house_id and predicted price\n",
        "compare_result = pd.DataFrame({\n",
        "    'house_id': validation_data['house_id'],\n",
        "    'price': lr_predictions\n",
        "})\n",
        "\n",
        "# Step 8: Show the result (you can save this to a CSV file if needed)\n",
        "print(compare_result)\n"
      ],
      "metadata": {
        "id": "D6uF07uvClXx"
      },
      "execution_count": null,
      "outputs": []
    }
  ]
}